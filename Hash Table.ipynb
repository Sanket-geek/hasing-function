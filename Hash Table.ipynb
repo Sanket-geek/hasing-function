{
 "cells": [
  {
   "cell_type": "markdown",
   "id": "animated-atlanta",
   "metadata": {},
   "source": [
    "## Creating sports data"
   ]
  },
  {
   "cell_type": "code",
   "execution_count": 103,
   "id": "collected-attack",
   "metadata": {
    "jupyter": {
     "source_hidden": true
    },
    "tags": []
   },
   "outputs": [],
   "source": [
    "sports = '''soccer\n",
    "basketball\n",
    "tennis\n",
    "baseball\n",
    "golf\n",
    "running\n",
    "volleyball\n",
    "badminton\n",
    "swimming\n",
    "boxing\n",
    "table tennis\n",
    "skiing\n",
    "ice skating\n",
    "roller skating\n",
    "cricket\n",
    "rugby\n",
    "pool\n",
    "darts\n",
    "football\n",
    "bowling\n",
    "ice hockey\n",
    "surfing\n",
    "karate\n",
    "horse racing\n",
    "snowboarding\n",
    "skateboarding\n",
    "cycling\n",
    "archery\n",
    "fishing\n",
    "gymnastics\n",
    "figure skating\n",
    "rock climbing\n",
    "sumo wrestling\n",
    "taekwondo\n",
    "fencing\n",
    "water skiing\n",
    "jet skiing\n",
    "weight lifting\n",
    "scuba diving\n",
    "judo\n",
    "wind surfing\n",
    "kickboxing\n",
    "sky diving\n",
    "hang gliding\n",
    "bungee jumping'''"
   ]
  },
  {
   "cell_type": "code",
   "execution_count": 104,
   "id": "bound-disorder",
   "metadata": {},
   "outputs": [],
   "source": [
    "sports_list = sports.split('\\n')"
   ]
  },
  {
   "cell_type": "code",
   "execution_count": 105,
   "id": "stuck-setup",
   "metadata": {
    "collapsed": true,
    "jupyter": {
     "outputs_hidden": true
    },
    "tags": []
   },
   "outputs": [
    {
     "data": {
      "text/plain": [
       "['soccer',\n",
       " 'basketball',\n",
       " 'tennis',\n",
       " 'baseball',\n",
       " 'golf',\n",
       " 'running',\n",
       " 'volleyball',\n",
       " 'badminton',\n",
       " 'swimming',\n",
       " 'boxing',\n",
       " 'table tennis',\n",
       " 'skiing',\n",
       " 'ice skating',\n",
       " 'roller skating',\n",
       " 'cricket',\n",
       " 'rugby',\n",
       " 'pool',\n",
       " 'darts',\n",
       " 'football',\n",
       " 'bowling',\n",
       " 'ice hockey',\n",
       " 'surfing',\n",
       " 'karate',\n",
       " 'horse racing',\n",
       " 'snowboarding',\n",
       " 'skateboarding',\n",
       " 'cycling',\n",
       " 'archery',\n",
       " 'fishing',\n",
       " 'gymnastics',\n",
       " 'figure skating',\n",
       " 'rock climbing',\n",
       " 'sumo wrestling',\n",
       " 'taekwondo',\n",
       " 'fencing',\n",
       " 'water skiing',\n",
       " 'jet skiing',\n",
       " 'weight lifting',\n",
       " 'scuba diving',\n",
       " 'judo',\n",
       " 'wind surfing',\n",
       " 'kickboxing',\n",
       " 'sky diving',\n",
       " 'hang gliding',\n",
       " 'bungee jumping']"
      ]
     },
     "execution_count": 105,
     "metadata": {},
     "output_type": "execute_result"
    }
   ],
   "source": [
    "sports_list"
   ]
  },
  {
   "cell_type": "code",
   "execution_count": 81,
   "id": "extended-greensboro",
   "metadata": {},
   "outputs": [],
   "source": [
    "import random\n",
    "\n",
    "def sports_random():\n",
    "    x = sports_list[random.randint(0, len(sports_list)-1)]\n",
    "    y = sports_list[random.randint(0, len(sports_list)-1)]\n",
    "    z = sports_list[random.randint(0, len(sports_list)-1)]\n",
    "    return [x, y, z]"
   ]
  },
  {
   "cell_type": "code",
   "execution_count": 83,
   "id": "awful-fairy",
   "metadata": {},
   "outputs": [],
   "source": [
    "month_activities = [[f'March {i+1}', sports_random()] for i in range(31)]"
   ]
  },
  {
   "cell_type": "code",
   "execution_count": 84,
   "id": "developing-mainland",
   "metadata": {
    "collapsed": true,
    "jupyter": {
     "outputs_hidden": true
    },
    "tags": []
   },
   "outputs": [
    {
     "data": {
      "text/plain": [
       "[['March 1', ['golf', 'skiing', 'skiing']],\n",
       " ['March 2', ['pool', 'surfing', 'fishing']],\n",
       " ['March 3', ['ice hockey', 'bungee jumping', 'taekwondo']],\n",
       " ['March 4', ['badminton', 'archery', 'running']],\n",
       " ['March 5', ['ice hockey', 'skiing', 'cycling']],\n",
       " ['March 6', ['basketball', 'gymnastics', 'football']],\n",
       " ['March 7', ['skateboarding', 'cricket', 'darts']],\n",
       " ['March 8', ['scuba diving', 'soccer', 'water skiing']],\n",
       " ['March 9', ['darts', 'bowling', 'badminton']],\n",
       " ['March 10', ['rugby', 'surfing', 'hang gliding']],\n",
       " ['March 11', ['fishing', 'wind surfing', 'wind surfing']],\n",
       " ['March 12', ['hang gliding', 'sumo wrestling', 'running']],\n",
       " ['March 13', ['table tennis', 'tennis', 'scuba diving']],\n",
       " ['March 14', ['judo', 'darts', 'rugby']],\n",
       " ['March 15', ['bungee jumping', 'weight lifting', 'boxing']],\n",
       " ['March 16', ['scuba diving', 'figure skating', 'ice skating']],\n",
       " ['March 17', ['soccer', 'jet skiing', 'bowling']],\n",
       " ['March 18', ['baseball', 'bungee jumping', 'weight lifting']],\n",
       " ['March 19', ['gymnastics', 'fishing', 'karate']],\n",
       " ['March 20', ['fencing', 'table tennis', 'swimming']],\n",
       " ['March 21', ['football', 'surfing', 'sky diving']],\n",
       " ['March 22', ['darts', 'rock climbing', 'taekwondo']],\n",
       " ['March 23', ['soccer', 'basketball', 'cycling']],\n",
       " ['March 24', ['snowboarding', 'fishing', 'ice hockey']],\n",
       " ['March 25', ['table tennis', 'darts', 'cycling']],\n",
       " ['March 26', ['darts', 'surfing', 'weight lifting']],\n",
       " ['March 27', ['golf', 'ice hockey', 'taekwondo']],\n",
       " ['March 28', ['water skiing', 'ice skating', 'taekwondo']],\n",
       " ['March 29', ['football', 'scuba diving', 'karate']],\n",
       " ['March 30', ['figure skating', 'rock climbing', 'sumo wrestling']],\n",
       " ['March 31', ['archery', 'hang gliding', 'skiing']]]"
      ]
     },
     "execution_count": 84,
     "metadata": {},
     "output_type": "execute_result"
    }
   ],
   "source": [
    "month_activities"
   ]
  },
  {
   "cell_type": "markdown",
   "id": "smart-patrick",
   "metadata": {},
   "source": [
    "# Searching elements in list"
   ]
  },
  {
   "cell_type": "markdown",
   "id": "historic-elizabeth",
   "metadata": {},
   "source": [
    "### 1. Iterating through every item"
   ]
  },
  {
   "cell_type": "code",
   "execution_count": 99,
   "id": "sixth-ceiling",
   "metadata": {},
   "outputs": [
    {
     "name": "stdout",
     "output_type": "stream",
     "text": [
      "['scuba diving', 'figure skating', 'ice skating']\n"
     ]
    }
   ],
   "source": [
    "# Look for activity on march 16\n",
    "\n",
    "for item in month_activities:\n",
    "    if item[0] == 'March 16':\n",
    "        print(item[1])"
   ]
  },
  {
   "cell_type": "markdown",
   "id": "divided-rabbit",
   "metadata": {},
   "source": [
    "### 2. Using index"
   ]
  },
  {
   "cell_type": "code",
   "execution_count": 106,
   "id": "angry-material",
   "metadata": {},
   "outputs": [
    {
     "data": {
      "text/plain": [
       "['March 16', ['scuba diving', 'figure skating', 'ice skating']]"
      ]
     },
     "execution_count": 106,
     "metadata": {},
     "output_type": "execute_result"
    }
   ],
   "source": [
    "month_activities[15]"
   ]
  },
  {
   "cell_type": "markdown",
   "id": "english-toilet",
   "metadata": {},
   "source": [
    "### 3. Using dictionary"
   ]
  },
  {
   "cell_type": "code",
   "execution_count": 96,
   "id": "little-stationery",
   "metadata": {},
   "outputs": [],
   "source": [
    "# Using dictionary\n",
    "\n",
    "monthly_sports_dict = {}\n",
    "\n",
    "for i in range(0, 31):\n",
    "    day = f'March {i+1}'\n",
    "    sports = sports_random()\n",
    "    monthly_sports_dict[day] = sports"
   ]
  },
  {
   "cell_type": "code",
   "execution_count": 98,
   "id": "imperial-combat",
   "metadata": {},
   "outputs": [
    {
     "data": {
      "text/plain": [
       "['weight lifting', 'soccer', 'darts']"
      ]
     },
     "execution_count": 98,
     "metadata": {},
     "output_type": "execute_result"
    }
   ],
   "source": [
    "monthly_sports_dict['March 16']"
   ]
  },
  {
   "cell_type": "code",
   "execution_count": null,
   "id": "ranging-cocktail",
   "metadata": {},
   "outputs": [],
   "source": []
  },
  {
   "cell_type": "markdown",
   "id": "prime-april",
   "metadata": {},
   "source": [
    "# Creating a hash table"
   ]
  },
  {
   "cell_type": "code",
   "execution_count": 186,
   "id": "union-disposal",
   "metadata": {},
   "outputs": [],
   "source": [
    "class HashTable():\n",
    "    def __init__(self, size):\n",
    "        self.size = size\n",
    "        self.arr = [None for i in range(self.size)]\n",
    "        \n",
    "    def get_hash(self, key):\n",
    "        h = 0\n",
    "        for i in key:\n",
    "            h += ord(i)\n",
    "        return h % self.size\n",
    "    \n",
    "    def __setitem__(self, key, value):\n",
    "        h = self.get_hash(key)\n",
    "        self.arr[h] = value\n",
    "        \n",
    "    def __getitem__(self, key):\n",
    "        h = self.get_hash(key)\n",
    "        return self.arr[h]\n",
    "    \n",
    "    def __delitem__(self, key):\n",
    "        h = self.get_hash(key)\n",
    "        self.arr[h] = None"
   ]
  },
  {
   "cell_type": "code",
   "execution_count": 187,
   "id": "surprising-brake",
   "metadata": {},
   "outputs": [],
   "source": [
    "h = HashTable(10)"
   ]
  },
  {
   "cell_type": "code",
   "execution_count": 188,
   "id": "desperate-weekly",
   "metadata": {},
   "outputs": [],
   "source": [
    "h['march 6'] = 'Volleyball'\n",
    "h['march 7'] =  'Baseball'\n",
    "h['march 29'] = 'Socceer'"
   ]
  },
  {
   "cell_type": "code",
   "execution_count": 189,
   "id": "raised-pipeline",
   "metadata": {
    "scrolled": true,
    "tags": []
   },
   "outputs": [
    {
     "data": {
      "text/plain": [
       "['Baseball', None, 'Socceer', None, None, None, None, None, None, 'Volleyball']"
      ]
     },
     "execution_count": 189,
     "metadata": {},
     "output_type": "execute_result"
    }
   ],
   "source": [
    "h.arr"
   ]
  },
  {
   "cell_type": "code",
   "execution_count": 190,
   "id": "civilian-uncertainty",
   "metadata": {},
   "outputs": [
    {
     "data": {
      "text/plain": [
       "'Socceer'"
      ]
     },
     "execution_count": 190,
     "metadata": {},
     "output_type": "execute_result"
    }
   ],
   "source": [
    "h['march 29']"
   ]
  },
  {
   "cell_type": "markdown",
   "id": "female-showcase",
   "metadata": {},
   "source": [
    "## Collision in hash table"
   ]
  },
  {
   "cell_type": "code",
   "execution_count": 191,
   "id": "broke-pierce",
   "metadata": {},
   "outputs": [],
   "source": [
    "class HashTable:  \n",
    "    def __init__(self, size):\n",
    "        self.size = size\n",
    "        self.arr = [None for i in range(self.size)]\n",
    "        \n",
    "    def get_hash(self, key):\n",
    "        hash = 0\n",
    "        for char in key:\n",
    "            hash += ord(char)\n",
    "        return hash % self.size\n",
    "    \n",
    "    def __getitem__(self, index):\n",
    "        h = self.get_hash(index)\n",
    "        return self.arr[h]\n",
    "    \n",
    "    def __setitem__(self, key, val):\n",
    "        h = self.get_hash(key)\n",
    "        self.arr[h] = val"
   ]
  },
  {
   "cell_type": "code",
   "execution_count": 209,
   "id": "thrown-navigation",
   "metadata": {},
   "outputs": [],
   "source": [
    "t = HashTable(5)\n",
    "t[\"march 6\"] = 'Socceer'\n",
    "t[\"march 8\"] = 'Baseball'\n",
    "t[\"march 9\"] = 'Squash'\n",
    "t[\"march 17\"] = 'Volleyball'"
   ]
  },
  {
   "cell_type": "code",
   "execution_count": 210,
   "id": "published-ordinary",
   "metadata": {},
   "outputs": [
    {
     "data": {
      "text/plain": [
       "[[],\n",
       " [('march 8', 'Baseball')],\n",
       " [('march 9', 'Squash')],\n",
       " [],\n",
       " [('march 6', 'Socceer'), ('march 17', 'Volleyball')]]"
      ]
     },
     "execution_count": 210,
     "metadata": {},
     "output_type": "execute_result"
    }
   ],
   "source": [
    "# Value of \"march 6\" is overwritten by \"march 17\"\n",
    "t.arr"
   ]
  },
  {
   "cell_type": "code",
   "execution_count": 211,
   "id": "tired-boutique",
   "metadata": {},
   "outputs": [
    {
     "data": {
      "text/plain": [
       "4"
      ]
     },
     "execution_count": 211,
     "metadata": {},
     "output_type": "execute_result"
    }
   ],
   "source": [
    "t.get_hash('march 6')"
   ]
  },
  {
   "cell_type": "code",
   "execution_count": 212,
   "id": "killing-moscow",
   "metadata": {},
   "outputs": [
    {
     "data": {
      "text/plain": [
       "4"
      ]
     },
     "execution_count": 212,
     "metadata": {},
     "output_type": "execute_result"
    }
   ],
   "source": [
    "t.get_hash('march 17')"
   ]
  },
  {
   "cell_type": "markdown",
   "id": "finished-subdivision",
   "metadata": {},
   "source": [
    "---\n",
    "## Handling collision"
   ]
  },
  {
   "cell_type": "markdown",
   "id": "north-worker",
   "metadata": {},
   "source": [
    "---\n",
    "### 1. Chaining method"
   ]
  },
  {
   "cell_type": "code",
   "execution_count": 213,
   "id": "published-sister",
   "metadata": {},
   "outputs": [],
   "source": [
    "class HashTable():\n",
    "    def __init__(self, size):\n",
    "        self.size = size\n",
    "        self.arr = [[] for i in range(self.size)]\n",
    "        \n",
    "    def get_hash(self, key):\n",
    "        h = 0\n",
    "        for i in key:\n",
    "            h += ord(i)\n",
    "        return h % self.size\n",
    "    \n",
    "    def __getitem__(self, key):\n",
    "        h = self.get_hash(key)\n",
    "        for element in self.arr[h]:\n",
    "            if element[0] == key:\n",
    "                return element[1]\n",
    "            \n",
    "    def __setitem__(self, key, value):\n",
    "        h = self.get_hash(key)\n",
    "        found = False\n",
    "        for index,element in enumerate(self.arr[h]):\n",
    "            if element[0] == key:\n",
    "                self.arr[h][index] = (key, value)\n",
    "                found = True\n",
    "        if not found:\n",
    "            self.arr[h].append((key, value))\n",
    "            \n",
    "    def __delitem__(self, key):\n",
    "        h = self.get_hash(key)\n",
    "        for index, element in enumerate(self.arr[h]):\n",
    "            if element[0] == key:\n",
    "                print('deleted', key)\n",
    "                del self.arr[h][index]"
   ]
  },
  {
   "cell_type": "code",
   "execution_count": 214,
   "id": "changing-newport",
   "metadata": {},
   "outputs": [],
   "source": [
    "t = HashTable(5)\n",
    "t[\"march 6\"] = 'Socceer'\n",
    "t[\"march 8\"] = 'Baseball'\n",
    "t[\"march 9\"] = 'Squash'\n",
    "t[\"march 17\"] = 'Volleyball'"
   ]
  },
  {
   "cell_type": "code",
   "execution_count": 215,
   "id": "express-tutorial",
   "metadata": {},
   "outputs": [
    {
     "data": {
      "text/plain": [
       "[[],\n",
       " [('march 8', 'Baseball')],\n",
       " [('march 9', 'Squash')],\n",
       " [],\n",
       " [('march 6', 'Socceer'), ('march 17', 'Volleyball')]]"
      ]
     },
     "execution_count": 215,
     "metadata": {},
     "output_type": "execute_result"
    }
   ],
   "source": [
    "t.arr"
   ]
  },
  {
   "cell_type": "markdown",
   "id": "italic-accountability",
   "metadata": {},
   "source": [
    "---\n",
    "## 2. Linear probing"
   ]
  },
  {
   "cell_type": "code",
   "execution_count": 218,
   "id": "proper-position",
   "metadata": {},
   "outputs": [],
   "source": [
    "class HashTable:  \n",
    "    def __init__(self, size):\n",
    "        self.size = size\n",
    "        self.arr = [None for i in range(self.size)]\n",
    "        \n",
    "    def get_hash(self, key):\n",
    "        hash = 0\n",
    "        for char in key:\n",
    "            hash += ord(char)\n",
    "        return hash % self.size\n",
    "    \n",
    "    def __getitem__(self, key):\n",
    "        h = self.get_hash(key)\n",
    "        if self.arr[h] is None:\n",
    "            return\n",
    "        prob_range = self.get_prob_range(h)\n",
    "        for prob_index in prob_range:\n",
    "            element = self.arr[prob_index]\n",
    "            if element is None:\n",
    "                return\n",
    "            if element[0] == key:\n",
    "                return element[1]\n",
    "           \n",
    "    def __setitem__(self, key, val):\n",
    "        h = self.get_hash(key)\n",
    "        if self.arr[h] is None:\n",
    "            self.arr[h] = (key,val)\n",
    "        else:\n",
    "            new_h = self.find_slot(key, h)\n",
    "            self.arr[new_h] = (key,val)\n",
    "        print(self.arr, '\\n')\n",
    "        \n",
    "    def get_prob_range(self, index):\n",
    "        return [*range(index, len(self.arr))] + [*range(0,index)]\n",
    "    \n",
    "    def find_slot(self, key, index):\n",
    "        prob_range = self.get_prob_range(index)\n",
    "        for prob_index in prob_range:\n",
    "            if self.arr[prob_index] is None:\n",
    "                return prob_index\n",
    "            if self.arr[prob_index][0] == key:\n",
    "                return prob_index\n",
    "        raise Exception(\"Hashmap full\")\n",
    "        \n",
    "    def __delitem__(self, key):\n",
    "        h = self.get_hash(key)\n",
    "        prob_range = self.get_prob_range(h)\n",
    "        for prob_index in prob_range:\n",
    "            if self.arr[prob_index] is None:\n",
    "                return # item not found so return. You can also throw exception\n",
    "            if self.arr[prob_index][0] == key:\n",
    "                self.arr[prob_index]=None\n",
    "        print(self.arr)"
   ]
  },
  {
   "cell_type": "code",
   "execution_count": 219,
   "id": "competitive-involvement",
   "metadata": {},
   "outputs": [
    {
     "name": "stdout",
     "output_type": "stream",
     "text": [
      "[None, None, None, None, ('march 6', 'Socceer')] \n",
      "\n",
      "[None, ('march 8', 'Baseball'), None, None, ('march 6', 'Socceer')] \n",
      "\n",
      "[None, ('march 8', 'Baseball'), ('march 9', 'Squash'), None, ('march 6', 'Socceer')] \n",
      "\n",
      "[('march 17', 'Volleyball'), ('march 8', 'Baseball'), ('march 9', 'Squash'), None, ('march 6', 'Socceer')] \n",
      "\n"
     ]
    }
   ],
   "source": [
    "t = HashTable(5)\n",
    "t[\"march 6\"] = 'Socceer'\n",
    "t[\"march 8\"] = 'Baseball'\n",
    "t[\"march 9\"] = 'Squash'\n",
    "t[\"march 17\"] = 'Volleyball'"
   ]
  },
  {
   "cell_type": "code",
   "execution_count": null,
   "id": "partial-breakfast",
   "metadata": {},
   "outputs": [],
   "source": []
  }
 ],
 "metadata": {
  "kernelspec": {
   "display_name": "Python 3",
   "language": "python",
   "name": "python3"
  },
  "language_info": {
   "codemirror_mode": {
    "name": "ipython",
    "version": 3
   },
   "file_extension": ".py",
   "mimetype": "text/x-python",
   "name": "python",
   "nbconvert_exporter": "python",
   "pygments_lexer": "ipython3",
   "version": "3.9.1"
  }
 },
 "nbformat": 4,
 "nbformat_minor": 5
}
